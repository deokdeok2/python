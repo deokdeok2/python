{
 "cells": [
  {
   "cell_type": "code",
   "execution_count": 1,
   "id": "f8667710",
   "metadata": {},
   "outputs": [],
   "source": [
    "import sys\n",
    "from PyQt5.QtWidgets import*\n",
    "from PyQt5 import uic\n",
    "\n",
    "\n",
    "ui_path = r\"계산기.ui\"\n",
    "form_class=uic.loadUiType(ui_path)[0]\n",
    "\n",
    "class WindowClass(QMainWindow, form_class):\n",
    "    def __init__(self):\n",
    "        super().__init__()\n",
    "        self.setupUi(self)\n",
    "        \n",
    "        \n",
    "if __name__==\"__main__\" :\n",
    "    app=QApplication(sys.argv)\n",
    "    myWindow=WindowClass()\n",
    "    myWindow.show()\n",
    "    app.exec_()"
   ]
  },
  {
   "cell_type": "code",
   "execution_count": 1,
   "id": "1e98293a",
   "metadata": {
    "scrolled": true
   },
   "outputs": [
    {
     "name": "stdout",
     "output_type": "stream",
     "text": [
      "1\n",
      "2\n",
      "3\n",
      "6\n",
      "5\n",
      "4\n",
      "7\n",
      "8\n",
      "x\n",
      "+\n",
      "-\n",
      "=\n"
     ]
    }
   ],
   "source": [
    "import sys\n",
    "from PyQt5.QtWidgets import *\n",
    "from PyQt5 import uic\n",
    "\n",
    "ui_path = r\"계산기.ui\"\n",
    "form_class=uic.loadUiType(ui_path)[0]\n",
    "\n",
    "\n",
    "class WindowClass(QMainWindow, form_class):\n",
    "    def __init__(self):\n",
    "        super().__init__()\n",
    "        self.setupUi(self)\n",
    "        \n",
    "        self.btn_deleteAll.clicked.connect(self.btn_clicked)\n",
    "        self.btn_number0.clicked.connect(self.btn_clicked)\n",
    "        self.btn_number1.clicked.connect(self.btn_clicked)\n",
    "        self.btn_number2.clicked.connect(self.btn_clicked)\n",
    "        self.btn_number3.clicked.connect(self.btn_clicked)\n",
    "        self.btn_number4.clicked.connect(self.btn_clicked)\n",
    "        self.btn_number5.clicked.connect(self.btn_clicked)\n",
    "        self.btn_number6.clicked.connect(self.btn_clicked)\n",
    "        self.btn_number7.clicked.connect(self.btn_clicked)\n",
    "        self.btn_number8.clicked.connect(self.btn_clicked)\n",
    "        self.btn_number9.clicked.connect(self.btn_clicked)\n",
    "        self.btn_cals.clicked.connect(self.btn_clicked)\n",
    "        self.btn_plus.clicked.connect(self.btn_clicked)\n",
    "        self.btn_substract.clicked.connect(self.btn_clicked)\n",
    "        self.btn_square.clicked.connect(self.btn_clicked)\n",
    "        self.btn_divide.clicked.connect(self.btn_clicked)\n",
    "        \n",
    "        self.le_view.setEnabled(False)\n",
    "        self.text_value=\"\"\n",
    "    def btn_clicked(self):\n",
    "        btn_value = self.sender().text()\n",
    "        print(btn_value)\n",
    "        \n",
    "if __name__ == \"__main__\" :\n",
    "    app = QApplication(sys.argv)\n",
    "    myWindow = WindowClass()\n",
    "    myWindow.show()\n",
    "    app.exec_()"
   ]
  },
  {
   "cell_type": "code",
   "execution_count": null,
   "id": "1f0e99c2",
   "metadata": {},
   "outputs": [],
   "source": []
  },
  {
   "cell_type": "code",
   "execution_count": null,
   "id": "6cb4051c",
   "metadata": {},
   "outputs": [],
   "source": []
  }
 ],
 "metadata": {
  "kernelspec": {
   "display_name": "Python 3 (ipykernel)",
   "language": "python",
   "name": "python3"
  },
  "language_info": {
   "codemirror_mode": {
    "name": "ipython",
    "version": 3
   },
   "file_extension": ".py",
   "mimetype": "text/x-python",
   "name": "python",
   "nbconvert_exporter": "python",
   "pygments_lexer": "ipython3",
   "version": "3.9.12"
  }
 },
 "nbformat": 4,
 "nbformat_minor": 5
}
