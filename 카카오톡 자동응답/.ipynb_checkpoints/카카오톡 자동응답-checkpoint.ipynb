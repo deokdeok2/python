{
 "cells": [
  {
   "cell_type": "code",
   "execution_count": 1,
   "id": "cd3042c3",
   "metadata": {},
   "outputs": [
    {
     "name": "stdout",
     "output_type": "stream",
     "text": [
      "Requirement already satisfied: pyautogui in c:\\users\\user\\anaconda3\\lib\\site-packages (0.9.53)\n",
      "Requirement already satisfied: pygetwindow>=0.0.5 in c:\\users\\user\\anaconda3\\lib\\site-packages (from pyautogui) (0.0.9)\n",
      "Requirement already satisfied: PyTweening>=1.0.1 in c:\\users\\user\\anaconda3\\lib\\site-packages (from pyautogui) (1.0.4)\n",
      "Requirement already satisfied: pymsgbox in c:\\users\\user\\anaconda3\\lib\\site-packages (from pyautogui) (1.0.9)\n",
      "Requirement already satisfied: pyscreeze>=0.1.21 in c:\\users\\user\\anaconda3\\lib\\site-packages (from pyautogui) (0.1.28)\n",
      "Requirement already satisfied: mouseinfo in c:\\users\\user\\anaconda3\\lib\\site-packages (from pyautogui) (0.1.3)\n",
      "Requirement already satisfied: pyrect in c:\\users\\user\\anaconda3\\lib\\site-packages (from pygetwindow>=0.0.5->pyautogui) (0.2.0)\n",
      "Requirement already satisfied: pyperclip in c:\\users\\user\\anaconda3\\lib\\site-packages (from mouseinfo->pyautogui) (1.8.2)\n",
      "Note: you may need to restart the kernel to use updated packages.\n"
     ]
    }
   ],
   "source": [
    "pip install pyautogui"
   ]
  },
  {
   "cell_type": "code",
   "execution_count": 2,
   "id": "304802f0",
   "metadata": {},
   "outputs": [
    {
     "name": "stdout",
     "output_type": "stream",
     "text": [
      "Requirement already satisfied: pyperclip in c:\\users\\user\\anaconda3\\lib\\site-packages (1.8.2)\n",
      "Note: you may need to restart the kernel to use updated packages.\n"
     ]
    }
   ],
   "source": [
    "pip install pyperclip"
   ]
  },
  {
   "cell_type": "code",
   "execution_count": 3,
   "id": "784f3a91",
   "metadata": {},
   "outputs": [
    {
     "name": "stdout",
     "output_type": "stream",
     "text": [
      "Requirement already satisfied: schedule in c:\\users\\user\\anaconda3\\lib\\site-packages (1.1.0)\n",
      "Note: you may need to restart the kernel to use updated packages.\n"
     ]
    }
   ],
   "source": [
    "pip install schedule"
   ]
  },
  {
   "cell_type": "code",
   "execution_count": null,
   "id": "97b7d28a",
   "metadata": {},
   "outputs": [],
   "source": [
    "import pyautogui   # 마우스와 키보드 제어를 도와주는 라이브러리\n",
    "import os           #디렉토리관련 모듈 os\n",
    "import pyperclip   #복사/붙여넣기 클립보드 기능 사용을 위한 모듈\n",
    "import time        #간단한 시간 데이터를 처리하기 위해서 사용되는 모듈"
   ]
  },
  {
   "cell_type": "code",
   "execution_count": null,
   "id": "1d16b75e",
   "metadata": {},
   "outputs": [],
   "source": [
    "while(True):\n",
    "    try:\n",
    "            os.chdir(os.path.dirname(os.path.abspath(\"카카오톡 자동응답.ipynb\")))\n",
    "            #os.chdir(path) - 디렉토리 변경\n",
    "            #os.path.dir(path) - 경로중 디렉토리명만 가져옴\n",
    "            #os.path.abspath - 특정경로에서 절대경로를 얻는다\n",
    "            \n",
    "            \n",
    "            picPostion = pyautogui.locateOnScreen('pic1.png')\n",
    "            print(picPostion)\n",
    "            \n",
    "\n",
    "            if picPostion is None:\n",
    "                picPostion = pyautogui.locateOnScreen('pic2.png')\n",
    "                print(picPostion)\n",
    "\n",
    "            if picPostion is None:\n",
    "                picPostion = pyautogui.locateOnScreen('pic3.png')\n",
    "\n",
    "            clickPostion = pyautogui.center(picPostion)\n",
    "            pyautogui.doubleClick(clickPostion)\n",
    "\n",
    "            pyperclip.copy(\"자동 응답중입니다.\")\n",
    "            pyautogui.hotkey(\"ctrl\",\"v\")\n",
    "            time.sleep(1.0)\n",
    "\n",
    "            pyautogui.write([\"enter\"])\n",
    "            time.sleep(1.0)\n",
    "\n",
    "            pyautogui.write([\"escape\"])\n",
    "            time.sleep(1.0)\n",
    "    except:\n",
    "        print(\"아직없어요\")"
   ]
  },
  {
   "cell_type": "code",
   "execution_count": 3,
   "id": "3b5104c4",
   "metadata": {},
   "outputs": [
    {
     "name": "stdout",
     "output_type": "stream",
     "text": [
      "C:\\Users\\user\n"
     ]
    }
   ],
   "source": [
    "print(os.getcwd())"
   ]
  },
  {
   "cell_type": "markdown",
   "id": "0f02a6b6",
   "metadata": {},
   "source": [
    "import pyautogui\n",
    "import pyperclip\n",
    "import time\n",
    "import threading\n",
    "import os\n",
    "import schedule\n",
    "\n",
    "os.chdir(os.path.dirname(os.path.abspath('카카오톡.ipynb')))\n",
    "\n",
    "def send_message():\n",
    "    threading.Timer(10, send_message).start()\n",
    "    \n",
    "    picPosition = pyautogui.locateOnScreen('pic1.png')\n",
    "    print(picPosition)\n",
    "    \n",
    "    if picPosition is None:\n",
    "        picPosition = pyautogui.locateOnScreen('pic2.png')\n",
    "        print(picPosition)\n",
    "    if picPosition is None:\n",
    "        picPosition = pyautogui.locateOnScreen('pic3.png')\n",
    "        print(picPosition)\n",
    "        \n",
    "        \n",
    "    clickPosition = pyautogui.center(picPosition)\n",
    "    pyautogui.doubleClick(clickPosition)\n",
    "    \n",
    "    pyperclip.copy('1분마다 보내줘')\n",
    "    pyautogui.hotkey(\"ctrl\",\"v\")\n",
    "    time.sleep(1.0)\n",
    "    \n",
    "    pyautogui.write([\"enter\"])\n",
    "    time.sleep(1.0)\n",
    "    \n",
    "    \n",
    "    pyautogui.write([\"escape\"])\n",
    "    time.sleep(1.0)\n",
    "    \n",
    "# schedule.every(1).minutes.do(send_message())\n",
    "send_message()"
   ]
  },
  {
   "cell_type": "code",
   "execution_count": null,
   "id": "48ea7303",
   "metadata": {},
   "outputs": [],
   "source": []
  }
 ],
 "metadata": {
  "kernelspec": {
   "display_name": "Python 3 (ipykernel)",
   "language": "python",
   "name": "python3"
  },
  "language_info": {
   "codemirror_mode": {
    "name": "ipython",
    "version": 3
   },
   "file_extension": ".py",
   "mimetype": "text/x-python",
   "name": "python",
   "nbconvert_exporter": "python",
   "pygments_lexer": "ipython3",
   "version": "3.9.12"
  }
 },
 "nbformat": 4,
 "nbformat_minor": 5
}
